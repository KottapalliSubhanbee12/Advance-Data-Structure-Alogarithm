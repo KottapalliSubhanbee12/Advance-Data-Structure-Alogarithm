{
 "cells": [
  {
   "cell_type": "code",
   "execution_count": 9,
   "id": "f79f53db-4824-4334-b940-3ec36b0d703c",
   "metadata": {},
   "outputs": [
    {
     "name": "stdout",
     "output_type": "stream",
     "text": [
      "[[11 22 33]\n",
      " [44 55 66]\n",
      " [77 88 99]]\n"
     ]
    }
   ],
   "source": [
    "import numpy as np\n",
    "arr1=np.array([\n",
    "    [1,2,3],[4,5,6],[7,8,9]])\n",
    "arr2=np.array([\n",
    "    [10,20,30],[40,50,60,],[70,80,90]])\n",
    "result=arr1+arr2\n",
    "print(result)"
   ]
  },
  {
   "cell_type": "code",
   "execution_count": 11,
   "id": "5a60670c-c8d5-4a1f-8df5-c325c79abc83",
   "metadata": {},
   "outputs": [
    {
     "name": "stdout",
     "output_type": "stream",
     "text": [
      "[[ -9 -18 -27]\n",
      " [-36 -45 -54]\n",
      " [-63 -72 -81]]\n"
     ]
    }
   ],
   "source": [
    "arr1=np.array([\n",
    "    [1,2,3],[4,5,6],[7,8,9]])\n",
    "arr2=np.array([\n",
    "    [10,20,30],[40,50,60,],[70,80,90]])\n",
    "result=arr1-arr2\n",
    "print(result)"
   ]
  },
  {
   "cell_type": "code",
   "execution_count": 13,
   "id": "0c83d247-afd5-4c17-8980-7bb178766f4a",
   "metadata": {},
   "outputs": [
    {
     "name": "stdout",
     "output_type": "stream",
     "text": [
      "[[ 9 18 27]\n",
      " [36 45 54]\n",
      " [63 72 81]]\n"
     ]
    }
   ],
   "source": [
    "arr1=np.array([\n",
    "    [1,2,3],[4,5,6],[7,8,9]])\n",
    "arr2=np.array([\n",
    "    [10,20,30],[40,50,60,],[70,80,90]])\n",
    "result=arr2-arr1\n",
    "print(result)"
   ]
  },
  {
   "cell_type": "code",
   "execution_count": 17,
   "id": "e495fc19-529f-4864-b50d-6ff698429a3c",
   "metadata": {},
   "outputs": [
    {
     "name": "stdout",
     "output_type": "stream",
     "text": [
      "[[11, 22, 33], [44, 55, 66], [77, 88, 99]]\n"
     ]
    }
   ],
   "source": [
    "arr1=np.array([\n",
    "    [1,2,3],[4,5,6],[7,8,9]])\n",
    "arr2=np.array([\n",
    "    [10,20,30],[40,50,60,],[70,80,90]])\n",
    "result=[]\n",
    "for i in range(len(arr1)):\n",
    "    row=[]\n",
    "    for j in range(len(arr1[0])):\n",
    "        row.append(arr1[i,j]+arr2[i,j])\n",
    "    result.append(row)\n",
    "print(result)"
   ]
  },
  {
   "cell_type": "code",
   "execution_count": null,
   "id": "ada03180-8f8e-46af-ae50-dc5b984c1f60",
   "metadata": {},
   "outputs": [],
   "source": []
  }
 ],
 "metadata": {
  "kernelspec": {
   "display_name": "Python [conda env:base] *",
   "language": "python",
   "name": "conda-base-py"
  },
  "language_info": {
   "codemirror_mode": {
    "name": "ipython",
    "version": 3
   },
   "file_extension": ".py",
   "mimetype": "text/x-python",
   "name": "python",
   "nbconvert_exporter": "python",
   "pygments_lexer": "ipython3",
   "version": "3.12.7"
  }
 },
 "nbformat": 4,
 "nbformat_minor": 5
}
