{
 "cells": [
  {
   "cell_type": "code",
   "execution_count": 5,
   "id": "2996b5e2-e408-4916-87ad-7477f1196bd6",
   "metadata": {},
   "outputs": [
    {
     "name": "stdout",
     "output_type": "stream",
     "text": [
      "[4, 5]\n"
     ]
    }
   ],
   "source": [
    "#given two arrays write a python function to find intersection of both array(use list and set concepts)\n",
    "def intersection_of_arrays(arr1, arr2):\n",
    "    set1 = set(arr1)\n",
    "    set2 = set(arr2)\n",
    "    intersection_set = set1 & set2  \n",
    "    return list(intersection_set)\n",
    "arr1 = [1, 2, 3, 4, 5]\n",
    "arr2 = [4, 5, 6, 7, 8]\n",
    "print(intersection_of_arrays(arr1, arr2))  \n"
   ]
  }
 ],
 "metadata": {
  "kernelspec": {
   "display_name": "Python [conda env:base] *",
   "language": "python",
   "name": "conda-base-py"
  },
  "language_info": {
   "codemirror_mode": {
    "name": "ipython",
    "version": 3
   },
   "file_extension": ".py",
   "mimetype": "text/x-python",
   "name": "python",
   "nbconvert_exporter": "python",
   "pygments_lexer": "ipython3",
   "version": "3.12.7"
  }
 },
 "nbformat": 4,
 "nbformat_minor": 5
}
