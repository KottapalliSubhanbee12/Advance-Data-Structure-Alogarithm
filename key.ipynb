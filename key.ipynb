{
 "cells": [
  {
   "cell_type": "code",
   "execution_count": 1,
   "id": "70d35736-88e1-471c-8cae-d0e54ca76cf5",
   "metadata": {},
   "outputs": [
    {
     "name": "stdout",
     "output_type": "stream",
     "text": [
      "[1, 1, 1, 1, 1, 1, 1, 0, 0, 0, 0]\n"
     ]
    }
   ],
   "source": [
    "num = 1010105610111\n",
    "store = []\n",
    "count = 0\n",
    "while num!=0:\n",
    "    last_digit = num%10\n",
    "    if last_digit==1:\n",
    "        store.append(1)\n",
    "    elif last_digit == 0:\n",
    "        count+=1\n",
    "    num = num//10\n",
    "\n",
    "print(store + [0]*count)"
   ]
  },
  {
   "cell_type": "code",
   "execution_count": 3,
   "id": "7efb57b0-59fb-4e48-9c28-9693522e4dec",
   "metadata": {},
   "outputs": [
    {
     "name": "stdout",
     "output_type": "stream",
     "text": [
      "[1, 1, 1, 1, 1, 1, 1, 1, 0, 0, 0, 0]\n"
     ]
    }
   ],
   "source": [
    "num = [1,1,1,1,1,1,0,0,0,0,1,1]\n",
    "store = []\n",
    "count = 0\n",
    "i = 0\n",
    "while i<len(num):\n",
    "    if num[i]==1:\n",
    "        store.append(num[i])\n",
    "    elif num[i]==0:\n",
    "        count+=1\n",
    "    i+=1\n",
    "\n",
    "print(store + [0]*count)"
   ]
  }
 ],
 "metadata": {
  "kernelspec": {
   "display_name": "Python [conda env:base] *",
   "language": "python",
   "name": "conda-base-py"
  },
  "language_info": {
   "codemirror_mode": {
    "name": "ipython",
    "version": 3
   },
   "file_extension": ".py",
   "mimetype": "text/x-python",
   "name": "python",
   "nbconvert_exporter": "python",
   "pygments_lexer": "ipython3",
   "version": "3.12.7"
  }
 },
 "nbformat": 4,
 "nbformat_minor": 5
}
