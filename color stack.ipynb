{
 "cells": [
  {
   "cell_type": "code",
   "execution_count": 3,
   "id": "736f0897-fff0-49fa-b183-ab07c5c90aab",
   "metadata": {},
   "outputs": [
    {
     "ename": "SyntaxError",
     "evalue": "invalid syntax (3755003426.py, line 3)",
     "output_type": "error",
     "traceback": [
      "\u001b[1;36m  Cell \u001b[1;32mIn[3], line 3\u001b[1;36m\u001b[0m\n\u001b[1;33m    pip install pygame\u001b[0m\n\u001b[1;37m        ^\u001b[0m\n\u001b[1;31mSyntaxError\u001b[0m\u001b[1;31m:\u001b[0m invalid syntax\n"
     ]
    }
   ],
   "source": []
  },
  {
   "cell_type": "code",
   "execution_count": 5,
   "id": "ca207805-bccb-4b62-b644-cd7e0f1d39d1",
   "metadata": {},
   "outputs": [
    {
     "name": "stdout",
     "output_type": "stream",
     "text": [
      "Collecting pygame\n",
      "  Downloading pygame-2.6.1-cp312-cp312-win_amd64.whl.metadata (13 kB)\n",
      "Downloading pygame-2.6.1-cp312-cp312-win_amd64.whl (10.6 MB)\n",
      "   ---------------------------------------- 0.0/10.6 MB ? eta -:--:--\n",
      "   ---- ----------------------------------- 1.3/10.6 MB 11.3 MB/s eta 0:00:01\n",
      "   ------------- -------------------------- 3.7/10.6 MB 11.5 MB/s eta 0:00:01\n",
      "   ---------------------- ----------------- 6.0/10.6 MB 11.5 MB/s eta 0:00:01\n",
      "   ------------------------------- -------- 8.4/10.6 MB 11.6 MB/s eta 0:00:01\n",
      "   ---------------------------------------  10.5/10.6 MB 11.7 MB/s eta 0:00:01\n",
      "   ---------------------------------------- 10.6/10.6 MB 11.1 MB/s eta 0:00:00\n",
      "Installing collected packages: pygame\n",
      "Successfully installed pygame-2.6.1\n",
      "Note: you may need to restart the kernel to use updated packages.\n"
     ]
    }
   ],
   "source": [
    "pip install pygame"
   ]
  },
  {
   "cell_type": "code",
   "execution_count": 11,
   "id": "4bb4a4b4-e397-4868-bdc3-149355afc822",
   "metadata": {},
   "outputs": [
    {
     "name": "stdout",
     "output_type": "stream",
     "text": [
      "Pygame version: 2.6.1\n"
     ]
    }
   ],
   "source": [
    "import pygame\n",
    "print(\"Pygame version:\", pygame.__version__)\n"
   ]
  },
  {
   "cell_type": "code",
   "execution_count": null,
   "id": "4d543172-a2d6-433e-a25a-6ad3c5e8151d",
   "metadata": {},
   "outputs": [],
   "source": [
    "import pygame\n",
    "import random\n",
    "\n",
    "# Initialize Pygame\n",
    "pygame.init()\n",
    "\n",
    "# Screen dimensions\n",
    "WIDTH, HEIGHT = 400, 600\n",
    "screen = pygame.display.set_mode((WIDTH, HEIGHT))\n",
    "pygame.display.set_caption(\"Color Stack Challenge\")\n",
    "\n",
    "# Colors\n",
    "WHITE = (255, 255, 255)\n",
    "BLACK = (0, 0, 0)\n",
    "COLORS = [(255, 0, 0), (0, 255, 0), (0, 100, 255), (255, 255, 0)]  # Red, Green, Blue, Yellow\n",
    "\n",
    "# Game settings\n",
    "BLOCK_WIDTH = 100\n",
    "BLOCK_HEIGHT = 20\n",
    "BLOCK_SPEED = 3\n",
    "\n",
    "# Load font\n",
    "font = pygame.font.Font(None, 36)\n",
    "\n",
    "# Block class\n",
    "class Block:\n",
    "    def __init__(self, x, y, color):  # Correct constructor\n",
    "        self.x = x\n",
    "        self.y = y\n",
    "        self.color = color\n",
    "        self.moving_right = True\n",
    "\n",
    "    def move(self):\n",
    "        if self.moving_right:\n",
    "            self.x += BLOCK_SPEED\n",
    "            if self.x + BLOCK_WIDTH >= WIDTH:\n",
    "                self.moving_right = False\n",
    "        else:\n",
    "            self.x -= BLOCK_SPEED\n",
    "            if self.x <= 0:\n",
    "                self.moving_right = True\n",
    "\n",
    "    def draw(self):\n",
    "        pygame.draw.rect(screen, self.color, (self.x, self.y, BLOCK_WIDTH, BLOCK_HEIGHT))\n",
    "\n",
    "# Game loop\n",
    "def game_loop():\n",
    "    running = True\n",
    "    game_over = False\n",
    "    score = 0\n",
    "    stack = []\n",
    "    current_block = Block(WIDTH // 2 - BLOCK_WIDTH // 2, HEIGHT - 50, random.choice(COLORS))\n",
    "\n",
    "    while running:\n",
    "        screen.fill(WHITE)\n",
    "\n",
    "        for event in pygame.event.get():\n",
    "            if event.type == pygame.QUIT:\n",
    "                running = False\n",
    "\n",
    "            elif event.type == pygame.KEYDOWN:\n",
    "                if event.key == pygame.K_SPACE and not game_over:\n",
    "                    if len(stack) == 0 or abs(stack[-1].x - current_block.x) <= 20:\n",
    "                        stack.append(current_block)\n",
    "                        score += 10\n",
    "                        current_block = Block(\n",
    "                            WIDTH // 2 - BLOCK_WIDTH // 2,\n",
    "                            HEIGHT - (len(stack) + 1) * 30,\n",
    "                            random.choice(COLORS)\n",
    "                        )\n",
    "                    else:\n",
    "                        game_over = True\n",
    "                        text = font.render(\"Game Over! Score: \" + str(score), True, BLACK)\n",
    "                        screen.blit(text, (WIDTH // 2 - 150, HEIGHT // 2))\n",
    "                        pygame.display.update()\n",
    "                        pygame.time.delay(2000)\n",
    "                        # Reset game state\n",
    "                        score = 0\n",
    "                        stack.clear()\n",
    "                        current_block = Block(WIDTH // 2 - BLOCK_WIDTH // 2, HEIGHT - 50, random.choice(COLORS))\n",
    "                        game_over = False\n",
    "\n",
    "                elif event.key == pygame.K_ESCAPE:\n",
    "                    # Graceful exit with message\n",
    "                    text = font.render(\"Exiting...\", True, BLACK)\n",
    "                    screen.blit(text, (WIDTH // 2 - 60, HEIGHT // 2))\n",
    "                    pygame.display.update()\n",
    "                    pygame.time.delay(1000)\n",
    "                    running = False\n",
    "\n",
    "        # Draw stacked blocks\n",
    "        for block in stack:\n",
    "            block.draw()\n",
    "\n",
    "        # Move and draw current block\n",
    "        if not game_over:\n",
    "            current_block.move()\n",
    "            current_block.draw()\n",
    "\n",
    "        # Display score\n",
    "        score_text = font.render(f\"Score: {score}\", True, BLACK)\n",
    "        screen.blit(score_text, (10, 10))\n",
    "\n",
    "        pygame.display.update()\n",
    "        pygame.time.delay(20)\n",
    "\n",
    "    pygame.quit()\n",
    "\n",
    "# Run the game\n",
    "game_loop()\n"
   ]
  },
  {
   "cell_type": "code",
   "execution_count": null,
   "id": "ef975142-2b22-4389-8f31-77fc238356c7",
   "metadata": {},
   "outputs": [],
   "source": []
  }
 ],
 "metadata": {
  "kernelspec": {
   "display_name": "Python [conda env:base] *",
   "language": "python",
   "name": "conda-base-py"
  },
  "language_info": {
   "codemirror_mode": {
    "name": "ipython",
    "version": 3
   },
   "file_extension": ".py",
   "mimetype": "text/x-python",
   "name": "python",
   "nbconvert_exporter": "python",
   "pygments_lexer": "ipython3",
   "version": "3.12.7"
  }
 },
 "nbformat": 4,
 "nbformat_minor": 5
}
