{
 "cells": [
  {
   "cell_type": "code",
   "execution_count": null,
   "id": "cbe2903f-4637-41fa-8dc0-0e1b7c3a764e",
   "metadata": {},
   "outputs": [],
   "source": [
    "insertion_sort(list):\n",
    "1) size=len(list)\n",
    "2) for i=1 to size-1 ,do\n",
    "temp=list[i]\n",
    "j=i-1\n",
    "while temp<list[j] and j>=0,do\n",
    "list[j+1]=list[j]\n",
    "j=j-1\n",
    "list[j+1]=temp\n",
    "3)exit\n",
    " worst case:0(n^2)\n",
    "best case:0(n)"
   ]
  },
  {
   "cell_type": "code",
   "execution_count": null,
   "id": "357231fa-6fc9-44ec-9717-16f404c12055",
   "metadata": {},
   "outputs": [],
   "source": [
    "def insertion_sort(list):\n",
    "    size=len(list)\n",
    "    for i in range(1,)"
   ]
  }
 ],
 "metadata": {
  "kernelspec": {
   "display_name": "Python [conda env:base] *",
   "language": "python",
   "name": "conda-base-py"
  },
  "language_info": {
   "codemirror_mode": {
    "name": "ipython",
    "version": 3
   },
   "file_extension": ".py",
   "mimetype": "text/x-python",
   "name": "python",
   "nbconvert_exporter": "python",
   "pygments_lexer": "ipython3",
   "version": "3.12.7"
  }
 },
 "nbformat": 4,
 "nbformat_minor": 5
}
