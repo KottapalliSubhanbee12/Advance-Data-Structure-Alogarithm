{
 "cells": [
  {
   "cell_type": "code",
   "execution_count": 3,
   "id": "44773dd4-9df8-462e-9017-91ed1315d005",
   "metadata": {},
   "outputs": [
    {
     "name": "stdout",
     "output_type": "stream",
     "text": [
      "[3]\n"
     ]
    }
   ],
   "source": [
    "#without type conversion\n",
    "import numpy as np\n",
    "x=np.array([3,5,2,7,8,4,5])\n",
    "type(x)\n",
    "def remove_duplicates(x):\n",
    "    new_arr=[]\n",
    "    for i in x:\n",
    "        if i not in new_arr:\n",
    "            new_arr.append(i)\n",
    "        return new_arr\n",
    "result=remove_duplicates(x)\n",
    "print(result)"
   ]
  },
  {
   "cell_type": "code",
   "execution_count": 11,
   "id": "e2b9f114-6963-428d-b459-387c65676034",
   "metadata": {},
   "outputs": [
    {
     "name": "stdout",
     "output_type": "stream",
     "text": [
      "[3, 5, 2, 7, 8, 4]\n"
     ]
    }
   ],
   "source": [
    "def remove_duplicates(arr):\n",
    "    return list(dict.fromkeys(arr))  # Uses dictionary keys to maintain order\n",
    "result = remove_duplicates(x)\n",
    "print(result)\n"
   ]
  },
  {
   "cell_type": "code",
   "execution_count": 9,
   "id": "a2694138-c7bc-4244-84d9-1d0d5c498aa3",
   "metadata": {},
   "outputs": [
    {
     "name": "stdout",
     "output_type": "stream",
     "text": [
      "[2, 3, 4, 5, 7, 8]\n"
     ]
    }
   ],
   "source": [
    "import numpy as np\n",
    "x = np.array([3, 5, 2, 7, 8, 4, 5])\n",
    "def remove_duplicates(arr):\n",
    "    return list(set(arr))  # Convert to set to remove duplicates, then back to list\n",
    "result = remove_duplicates(x)\n",
    "print(result)\n"
   ]
  },
  {
   "cell_type": "code",
   "execution_count": null,
   "id": "694c7514-7922-44cc-9cf5-fdc25ebe7b26",
   "metadata": {},
   "outputs": [],
   "source": [
    "#Use type Conversion\n",
    "import numpy as np\n",
    "x=np.array([3,5,2,7,8,4,5])\n",
    "type(x)\n",
    "def remove_dulpicates(x):\n",
    "    unique_element=list(set(x))\n",
    "    return np.array(unique_elements)"
   ]
  }
 ],
 "metadata": {
  "kernelspec": {
   "display_name": "Python [conda env:base] *",
   "language": "python",
   "name": "conda-base-py"
  },
  "language_info": {
   "codemirror_mode": {
    "name": "ipython",
    "version": 3
   },
   "file_extension": ".py",
   "mimetype": "text/x-python",
   "name": "python",
   "nbconvert_exporter": "python",
   "pygments_lexer": "ipython3",
   "version": "3.12.7"
  }
 },
 "nbformat": 4,
 "nbformat_minor": 5
}
