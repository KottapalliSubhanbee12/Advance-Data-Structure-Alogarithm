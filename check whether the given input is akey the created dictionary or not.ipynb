{
 "cells": [
  {
   "cell_type": "code",
   "execution_count": 1,
   "id": "96b0ceaf-aaeb-4397-9124-a8b99ca36806",
   "metadata": {},
   "outputs": [
    {
     "name": "stdin",
     "output_type": "stream",
     "text": [
      "Enter the key to check:  50\n"
     ]
    },
    {
     "name": "stdout",
     "output_type": "stream",
     "text": [
      "Is not a key in the dictionary. 50\n"
     ]
    }
   ],
   "source": [
    "def check_key_in_dict(dictionary, key):\n",
    "    if key in dictionary:\n",
    "        return True\n",
    "    else:\n",
    "        return False\n",
    "\n",
    "dict = {'a': 10, 'b': 20, 'c': 30, 'd': 40}\n",
    "n    = input(\"Enter the key to check: \")\n",
    "\n",
    "if check_key_in_dict(dict, n):\n",
    "    print(\"Is a key in the dictionary.\",dict)\n",
    "else:\n",
    "    print(\"Is not a key in the dictionary.\",n)\n"
   ]
  }
 ],
 "metadata": {
  "kernelspec": {
   "display_name": "Python [conda env:base] *",
   "language": "python",
   "name": "conda-base-py"
  },
  "language_info": {
   "codemirror_mode": {
    "name": "ipython",
    "version": 3
   },
   "file_extension": ".py",
   "mimetype": "text/x-python",
   "name": "python",
   "nbconvert_exporter": "python",
   "pygments_lexer": "ipython3",
   "version": "3.12.7"
  }
 },
 "nbformat": 4,
 "nbformat_minor": 5
}
