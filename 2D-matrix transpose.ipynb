{
 "cells": [
  {
   "cell_type": "code",
   "execution_count": 5,
   "id": "a0632839-421d-457b-90cc-ffe2bd668971",
   "metadata": {},
   "outputs": [
    {
     "name": "stdout",
     "output_type": "stream",
     "text": [
      "original array:\n",
      "[[1 2 3]\n",
      " [4 5 6]]\n",
      "Transpose array:\n",
      "[[1 4]\n",
      " [2 5]\n",
      " [3 6]]\n"
     ]
    }
   ],
   "source": [
    "import numpy as np\n",
    "arr1=np.array([\n",
    "    [1,2,3],[4,5,6]])\n",
    "print(\"original array:\")\n",
    "print(arr1)\n",
    "result=np.transpose(arr1)\n",
    "print(\"Transpose array:\")\n",
    "print(result)"
   ]
  },
  {
   "cell_type": "code",
   "execution_count": null,
   "id": "14af1480-587a-453b-9518-9ac5e5960a7e",
   "metadata": {},
   "outputs": [],
   "source": []
  }
 ],
 "metadata": {
  "kernelspec": {
   "display_name": "Python [conda env:base] *",
   "language": "python",
   "name": "conda-base-py"
  },
  "language_info": {
   "codemirror_mode": {
    "name": "ipython",
    "version": 3
   },
   "file_extension": ".py",
   "mimetype": "text/x-python",
   "name": "python",
   "nbconvert_exporter": "python",
   "pygments_lexer": "ipython3",
   "version": "3.12.7"
  }
 },
 "nbformat": 4,
 "nbformat_minor": 5
}
