{
 "cells": [
  {
   "cell_type": "code",
   "execution_count": 3,
   "id": "6fb70604-3f19-493e-9e15-66efbca4cec8",
   "metadata": {},
   "outputs": [
    {
     "name": "stdout",
     "output_type": "stream",
     "text": [
      "[10 20 30 40 50]\n"
     ]
    }
   ],
   "source": [
    "import numpy as np\n",
    "r=np.array([10,20,30,40,50])\n",
    "print(r)"
   ]
  },
  {
   "cell_type": "code",
   "execution_count": 9,
   "id": "a744f35b-e39c-47a9-aa8b-bd7f122df6b4",
   "metadata": {},
   "outputs": [
    {
     "name": "stdout",
     "output_type": "stream",
     "text": [
      "10\n",
      "20\n",
      "30\n",
      "40\n",
      "50\n"
     ]
    }
   ],
   "source": [
    "#Write a Python program to create an array of integers and print each element using a loop.\"\n",
    "#\"How do you create and traverse an array in Python?\"\n",
    "from array import*\n",
    "arr=array('i',[10,20,30,40,50])\n",
    "for x in arr:\n",
    "    print(x)"
   ]
  },
  {
   "cell_type": "code",
   "execution_count": 17,
   "id": "3f49c178-9f84-44a0-8004-dedcae36b0e4",
   "metadata": {},
   "outputs": [
    {
     "name": "stdout",
     "output_type": "stream",
     "text": [
      "10\n",
      "20\n"
     ]
    }
   ],
   "source": [
    "from array import*\n",
    "arr=array('i',[10,20,30,40,50])\n",
    "print(arr[0])\n",
    "print(arr[1])"
   ]
  },
  {
   "cell_type": "code",
   "execution_count": 19,
   "id": "607147d7-17c2-481b-8ee8-1cd54e44a7a2",
   "metadata": {},
   "outputs": [
    {
     "name": "stdout",
     "output_type": "stream",
     "text": [
      "30\n",
      "50\n"
     ]
    }
   ],
   "source": [
    "from array import*\n",
    "arr=array('i',[10,20,30,40,50])\n",
    "print(arr[2])\n",
    "print(arr[4])"
   ]
  },
  {
   "cell_type": "code",
   "execution_count": 21,
   "id": "4c3b5b1b-aa8e-4f67-8e6d-85cf50c05931",
   "metadata": {},
   "outputs": [
    {
     "name": "stdout",
     "output_type": "stream",
     "text": [
      "10\n",
      "60\n",
      "20\n",
      "30\n",
      "40\n",
      "50\n"
     ]
    }
   ],
   "source": [
    "from array import *\n",
    "arr=array('i',[10,20,30,40,50])\n",
    "arr.insert(1,60)\n",
    "for x in arr:\n",
    "    print(x)"
   ]
  },
  {
   "cell_type": "code",
   "execution_count": 25,
   "id": "85c3ab66-0499-4056-8ba9-75671554e090",
   "metadata": {},
   "outputs": [
    {
     "name": "stdout",
     "output_type": "stream",
     "text": [
      "10\n",
      "20\n",
      "30\n",
      "40\n",
      "50\n",
      "60\n"
     ]
    }
   ],
   "source": [
    "#insertion operation\n",
    "from array import*\n",
    "arr=array('i',[10,20,30,40,50])\n",
    "arr.insert(5,60)\n",
    "for x in arr:\n",
    "    print(x)"
   ]
  },
  {
   "cell_type": "code",
   "execution_count": 29,
   "id": "05f09987-0b91-4f4d-a2c5-dc3b4b4a5ee7",
   "metadata": {},
   "outputs": [
    {
     "name": "stdout",
     "output_type": "stream",
     "text": [
      "10\n",
      "20\n",
      "30\n",
      "40\n",
      "50\n"
     ]
    }
   ],
   "source": [
    "#deletion operation\n",
    "from array import*\n",
    "arr=array('i',[10,60,20,30,40,50])\n",
    "arr.remove(60)\n",
    "for x in arr:\n",
    "    print(x)"
   ]
  },
  {
   "cell_type": "code",
   "execution_count": 35,
   "id": "4c181674-378c-47b0-8c39-f0d9b747f6a0",
   "metadata": {},
   "outputs": [
    {
     "name": "stdout",
     "output_type": "stream",
     "text": [
      "2\n"
     ]
    }
   ],
   "source": [
    "# search operation\n",
    "from array import *\n",
    "arr=array('i',[10,20,30,40,50])\n",
    "print(arr.index(30))"
   ]
  },
  {
   "cell_type": "code",
   "execution_count": 33,
   "id": "2ad0f1e3-5974-4892-bf55-e303051b580e",
   "metadata": {},
   "outputs": [
    {
     "name": "stdout",
     "output_type": "stream",
     "text": [
      "3\n"
     ]
    }
   ],
   "source": [
    "from array import *\n",
    "arr=array('i',[10,20,30,40,50])\n",
    "print(arr.index(40))"
   ]
  },
  {
   "cell_type": "code",
   "execution_count": null,
   "id": "b3a41180-7a5b-496d-83ff-f2c15550f986",
   "metadata": {},
   "outputs": [],
   "source": [
    "arr=array('i',[10,20,30,40,50])\n",
    "    "
   ]
  },
  {
   "cell_type": "code",
   "execution_count": 57,
   "id": "c6fb2c16-f7d2-472f-aa7c-37905ab55ff6",
   "metadata": {},
   "outputs": [
    {
     "name": "stdout",
     "output_type": "stream",
     "text": [
      "120\n",
      "60\n",
      "40\n",
      "30\n",
      "24\n",
      "None\n"
     ]
    }
   ],
   "source": [
    "import numpy as np\n",
    "x=np.array([1,2,3,4,5])\n",
    "def special_product(x):\n",
    "    \n",
    "    for i in range (len(x)):\n",
    "        prod=1\n",
    "        for j in range(len(x)):\n",
    "            if i!=j:\n",
    "                prod*=x[j]\n",
    "        print(prod)\n",
    "print(special_product(x))"
   ]
  },
  {
   "cell_type": "code",
   "execution_count": 63,
   "id": "3b72b3d9-01f2-4d5f-93b3-3805ab12dfaa",
   "metadata": {},
   "outputs": [
    {
     "name": "stdout",
     "output_type": "stream",
     "text": [
      "120\n",
      "60\n",
      "40\n",
      "30\n",
      "24\n",
      "None\n"
     ]
    }
   ],
   "source": [
    "import numpy as np\n",
    "y=np.array([1,2,3,4,5])\n",
    "def Special(y):\n",
    "    for  i in range(len(y)):\n",
    "        a=1\n",
    "        for j in range(len(y)):\n",
    "            if i!=j:\n",
    "                a*=y[j]\n",
    "        print(a)\n",
    "print(Special(y))"
   ]
  }
 ],
 "metadata": {
  "kernelspec": {
   "display_name": "Python [conda env:base] *",
   "language": "python",
   "name": "conda-base-py"
  },
  "language_info": {
   "codemirror_mode": {
    "name": "ipython",
    "version": 3
   },
   "file_extension": ".py",
   "mimetype": "text/x-python",
   "name": "python",
   "nbconvert_exporter": "python",
   "pygments_lexer": "ipython3",
   "version": "3.12.7"
  }
 },
 "nbformat": 4,
 "nbformat_minor": 5
}
