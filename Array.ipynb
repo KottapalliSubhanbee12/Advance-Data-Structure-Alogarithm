{
 "cells": [
  {
   "cell_type": "code",
   "execution_count": 11,
   "id": "9484b220-f8d9-4a3c-9bd1-b8ff39117191",
   "metadata": {},
   "outputs": [
    {
     "name": "stdout",
     "output_type": "stream",
     "text": [
      "[1 2 3 4 5]\n"
     ]
    }
   ],
   "source": [
    "import numpy as np\n",
    "a=np.array([1,2,3,4,5])\n",
    "print(a)"
   ]
  },
  {
   "cell_type": "code",
   "execution_count": 7,
   "id": "3dd108fa-e7fd-475b-a739-c74bacb7831c",
   "metadata": {},
   "outputs": [
    {
     "name": "stdout",
     "output_type": "stream",
     "text": [
      "10\n",
      "20\n",
      "30\n",
      "40\n",
      "50\n"
     ]
    }
   ],
   "source": [
    "from array import *\n",
    "array1=array('i',[10,20,30,40,50])\n",
    "for x in array1:\n",
    "    print(x)"
   ]
  },
  {
   "cell_type": "code",
   "execution_count": 13,
   "id": "61ceb4b5-71a2-46f9-b53b-251e22fc3c11",
   "metadata": {},
   "outputs": [
    {
     "name": "stdout",
     "output_type": "stream",
     "text": [
      "10\n",
      "30\n"
     ]
    }
   ],
   "source": [
    "from array import *\n",
    "array1=array('i',[10,20,30,40,50])\n",
    "print(array1[0])\n",
    "print(array1[2])"
   ]
  },
  {
   "cell_type": "code",
   "execution_count": 15,
   "id": "b2f04cfe-927b-4836-b936-97f9f340b019",
   "metadata": {},
   "outputs": [
    {
     "name": "stdout",
     "output_type": "stream",
     "text": [
      "10\n",
      "60\n",
      "20\n",
      "30\n",
      "40\n",
      "50\n"
     ]
    }
   ],
   "source": [
    "#insertion Operation\n",
    "from array import *\n",
    "array1=array('i',[10,20,30,40,50])\n",
    "array1.insert(1,60)\n",
    "for x in array1:\n",
    "    print(x)"
   ]
  },
  {
   "cell_type": "code",
   "execution_count": 21,
   "id": "aab77443-33b1-4219-a471-6e572998c678",
   "metadata": {},
   "outputs": [
    {
     "name": "stdout",
     "output_type": "stream",
     "text": [
      "10\n",
      "20\n",
      "30\n",
      "40\n",
      "50\n",
      "60\n"
     ]
    }
   ],
   "source": [
    "from array import *\n",
    "array1=array('i',[10,20,30,40,50])\n",
    "array1.insert(5,60)\n",
    "for x in array1:\n",
    "    print(x)"
   ]
  },
  {
   "cell_type": "code",
   "execution_count": 31,
   "id": "00c245ba-7c20-4d7a-be87-40a1dc723e82",
   "metadata": {},
   "outputs": [
    {
     "name": "stdout",
     "output_type": "stream",
     "text": [
      "10\n",
      "20\n",
      "30\n",
      "50\n"
     ]
    }
   ],
   "source": [
    "#delete Operation\n",
    "from array import *\n",
    "array1=array('i',[10,20,30,40,50])\n",
    "array1.remove(40)\n",
    "for x in array1:\n",
    "    print(x)"
   ]
  },
  {
   "cell_type": "code",
   "execution_count": 29,
   "id": "fe79f287-13f6-42fc-b9a4-22701b1f5c30",
   "metadata": {},
   "outputs": [
    {
     "name": "stdout",
     "output_type": "stream",
     "text": [
      "2\n"
     ]
    }
   ],
   "source": [
    "#Search operation\n",
    "from array import *\n",
    "array1=array('i',[10,20,30,40,50])\n",
    "print(array1.index(30))"
   ]
  },
  {
   "cell_type": "code",
   "execution_count": 33,
   "id": "4ad02395-830e-4909-8ec5-b4c0620bb5b3",
   "metadata": {},
   "outputs": [
    {
     "name": "stdout",
     "output_type": "stream",
     "text": [
      "10\n",
      "20\n",
      "80\n",
      "40\n",
      "50\n"
     ]
    }
   ],
   "source": [
    "#update operation\n",
    "from array import *\n",
    "array1=array('i',[10,20,30,40,50])\n",
    "array1[2]=80\n",
    "for x in array1:\n",
    "    print(x)"
   ]
  },
  {
   "cell_type": "code",
   "execution_count": 47,
   "id": "a6b0814e-6b5a-4296-8863-1c5150f092e9",
   "metadata": {},
   "outputs": [
    {
     "name": "stdout",
     "output_type": "stream",
     "text": [
      "50\n",
      "10\n"
     ]
    }
   ],
   "source": [
    "from array import *\n",
    "array1=array('i',[10,20,30,40,50])\n",
    "print(array1[-1])\n",
    "print(array1[0])"
   ]
  },
  {
   "cell_type": "code",
   "execution_count": 53,
   "id": "f26ae420-df1c-46dd-8402-e8cc03975108",
   "metadata": {},
   "outputs": [
    {
     "name": "stdout",
     "output_type": "stream",
     "text": [
      "50\n",
      "10\n"
     ]
    }
   ],
   "source": [
    "from array import *\n",
    "array1=array('i',[10,20,30,40,50])\n",
    "print(max(array1))\n",
    "print(min(array1))"
   ]
  },
  {
   "cell_type": "code",
   "execution_count": 55,
   "id": "6fd19bf9-2bd1-40ab-9900-2f200afb58bb",
   "metadata": {},
   "outputs": [
    {
     "name": "stdout",
     "output_type": "stream",
     "text": [
      "90\n",
      "10\n"
     ]
    }
   ],
   "source": [
    "from array import *\n",
    "array1=array('i',[30,40,20,90,10])\n",
    "print(max(array1))\n",
    "print(min(array1))"
   ]
  },
  {
   "cell_type": "code",
   "execution_count": 5,
   "id": "add032e5-4637-4576-aa07-b5dc45e2246a",
   "metadata": {},
   "outputs": [
    {
     "name": "stdout",
     "output_type": "stream",
     "text": [
      "Maximum: 50\n",
      "Minimum: 10\n"
     ]
    }
   ],
   "source": [
    "from array import *\n",
    "\n",
    "def find_max_min(arr):\n",
    "    return max(arr), min(arr)\n",
    "array1 = array('i', [10, 20, 30, 40, 50])\n",
    "max_val, min_val = find_max_min(array1)\n",
    "print(\"Maximum:\", max_val)\n",
    "print(\"Minimum:\", min_val)\n"
   ]
  }
 ],
 "metadata": {
  "kernelspec": {
   "display_name": "Python [conda env:base] *",
   "language": "python",
   "name": "conda-base-py"
  },
  "language_info": {
   "codemirror_mode": {
    "name": "ipython",
    "version": 3
   },
   "file_extension": ".py",
   "mimetype": "text/x-python",
   "name": "python",
   "nbconvert_exporter": "python",
   "pygments_lexer": "ipython3",
   "version": "3.12.7"
  }
 },
 "nbformat": 4,
 "nbformat_minor": 5
}
