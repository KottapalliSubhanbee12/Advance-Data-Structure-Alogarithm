{
 "cells": [
  {
   "cell_type": "code",
   "execution_count": 1,
   "id": "f2e1e506-a71a-445c-b903-b84dc51f98e0",
   "metadata": {},
   "outputs": [
    {
     "name": "stdout",
     "output_type": "stream",
     "text": [
      "sum: 34\n",
      "Average: 4.857142857142857\n"
     ]
    }
   ],
   "source": [
    "import array as ar\n",
    "x=ar.array('i',[3,5,2,7,8,4,5])\n",
    "type(x)\n",
    "x_sum=sum(x)\n",
    "print(\"sum:\", x_sum)\n",
    "length=len(x)\n",
    "average=x_sum/length\n",
    "print(\"Average:\",average)"
   ]
  },
  {
   "cell_type": "code",
   "execution_count": 5,
   "id": "839436b7-b801-454c-b2fb-55d232dd763d",
   "metadata": {},
   "outputs": [
    {
     "name": "stdout",
     "output_type": "stream",
     "text": [
      "sum: 34\n",
      "Average: 4.857142857142857\n"
     ]
    }
   ],
   "source": [
    "import numpy as np\n",
    "x=np.array([3,5,2,7,8,4,5])\n",
    "type(x)\n",
    "x_sum=sum(x)\n",
    "print(\"sum:\", x_sum)\n",
    "length=len(x)\n",
    "average=x_sum/length\n",
    "print(\"Average:\",average)"
   ]
  },
  {
   "cell_type": "code",
   "execution_count": 7,
   "id": "3f926fe7-dccd-4f0d-97ed-40a02b84e4e2",
   "metadata": {},
   "outputs": [],
   "source": [
    "#mam suggest  the numpy library\n"
   ]
  }
 ],
 "metadata": {
  "kernelspec": {
   "display_name": "Python [conda env:base] *",
   "language": "python",
   "name": "conda-base-py"
  },
  "language_info": {
   "codemirror_mode": {
    "name": "ipython",
    "version": 3
   },
   "file_extension": ".py",
   "mimetype": "text/x-python",
   "name": "python",
   "nbconvert_exporter": "python",
   "pygments_lexer": "ipython3",
   "version": "3.12.7"
  }
 },
 "nbformat": 4,
 "nbformat_minor": 5
}
