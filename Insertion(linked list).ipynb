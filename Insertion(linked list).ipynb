{
 "cells": [
  {
   "cell_type": "code",
   "execution_count": null,
   "id": "29275984-1c84-4e5c-b213-582a0084ac5a",
   "metadata": {},
   "outputs": [],
   "source": [
    "#4 type \n",
    "#inserting the element at the beginning of the list\n",
    "#inserting the element at the end of the list"
   ]
  },
  {
   "cell_type": "code",
   "execution_count": null,
   "id": "12961b9e-5295-41fc-9b29-bca2fdd1883a",
   "metadata": {},
   "outputs": [],
   "source": [
    "#insertion new elemnts in a singly linked list\n"
   ]
  }
 ],
 "metadata": {
  "kernelspec": {
   "display_name": "Python [conda env:base] *",
   "language": "python",
   "name": "conda-base-py"
  },
  "language_info": {
   "codemirror_mode": {
    "name": "ipython",
    "version": 3
   },
   "file_extension": ".py",
   "mimetype": "text/x-python",
   "name": "python",
   "nbconvert_exporter": "python",
   "pygments_lexer": "ipython3",
   "version": "3.12.7"
  }
 },
 "nbformat": 4,
 "nbformat_minor": 5
}
