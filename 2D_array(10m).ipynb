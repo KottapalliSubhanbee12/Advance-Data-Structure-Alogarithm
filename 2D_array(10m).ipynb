{
 "cells": [
  {
   "cell_type": "code",
   "execution_count": null,
   "id": "4cd1d30f-14e1-4f22-8153-02182b8c57ec",
   "metadata": {},
   "outputs": [],
   "source": [
    "#create an array"
   ]
  },
  {
   "cell_type": "code",
   "execution_count": 1,
   "id": "7500cb6a-1c43-48c8-ab6c-c97563964655",
   "metadata": {},
   "outputs": [
    {
     "name": "stdout",
     "output_type": "stream",
     "text": [
      "[[10 20 30]\n",
      " [40 50 60]\n",
      " [70 80 90]]\n"
     ]
    }
   ],
   "source": [
    "import numpy as np\n",
    "x=np.array([\n",
    "          [10,20,30],\n",
    "          [40,50,60],\n",
    "          [70,80,90]])\n",
    "print(x)"
   ]
  },
  {
   "cell_type": "code",
   "execution_count": 3,
   "id": "ecd759c7-8db0-492d-bd9c-5847bead0122",
   "metadata": {},
   "outputs": [
    {
     "data": {
      "text/plain": [
       "array([[10, 20, 30],\n",
       "       [40, 50, 60],\n",
       "       [70, 80, 90]])"
      ]
     },
     "execution_count": 3,
     "metadata": {},
     "output_type": "execute_result"
    }
   ],
   "source": [
    "x"
   ]
  },
  {
   "cell_type": "code",
   "execution_count": 7,
   "id": "1b97f8a8-fb19-4c6b-ae7c-45a772d0dcfc",
   "metadata": {},
   "outputs": [
    {
     "name": "stdout",
     "output_type": "stream",
     "text": [
      "[[10.+0.j 20.+0.j 30.+0.j]\n",
      " [40.+0.j 50.+0.j 60.+0.j]\n",
      " [70.+0.j 80.+0.j 90.+0.j]]\n"
     ]
    }
   ],
   "source": [
    "import numpy as np\n",
    "x=np.array([\n",
    "          [10,20,30],\n",
    "          [40,50,60],\n",
    "          [70,80,90]],dtype=complex)\n",
    "print(x)"
   ]
  },
  {
   "cell_type": "code",
   "execution_count": 9,
   "id": "616378cb-5dd7-41d0-b748-ddc45a249f51",
   "metadata": {},
   "outputs": [
    {
     "name": "stdout",
     "output_type": "stream",
     "text": [
      "[[10. 20. 30.]\n",
      " [40. 50. 60.]\n",
      " [70. 80. 90.]]\n"
     ]
    }
   ],
   "source": [
    "import numpy as np\n",
    "x=np.array([\n",
    "          [10,20,30],\n",
    "          [40,50,60],\n",
    "          [70,80,90]],dtype=float)\n",
    "print(x)"
   ]
  },
  {
   "cell_type": "code",
   "execution_count": null,
   "id": "4331b60c-3a3d-46e8-9fbc-800f41887ba2",
   "metadata": {},
   "outputs": [],
   "source": [
    "zero() and ones()"
   ]
  },
  {
   "cell_type": "code",
   "execution_count": 11,
   "id": "464f6b09-6185-4a8c-b9c1-bad44ed15c58",
   "metadata": {},
   "outputs": [
    {
     "name": "stdout",
     "output_type": "stream",
     "text": [
      "[[0. 0. 0.]\n",
      " [0. 0. 0.]]\n"
     ]
    }
   ],
   "source": [
    "y=np.zeros((2,3))\n",
    "print(y)"
   ]
  },
  {
   "cell_type": "code",
   "execution_count": 13,
   "id": "a26f58cd-e643-42de-a518-1b53655e5ccc",
   "metadata": {},
   "outputs": [
    {
     "name": "stdout",
     "output_type": "stream",
     "text": [
      "[[1. 1.]\n",
      " [1. 1.]\n",
      " [1. 1.]]\n"
     ]
    }
   ],
   "source": [
    "y=np.ones((3,2))\n",
    "print(y)"
   ]
  },
  {
   "cell_type": "code",
   "execution_count": 15,
   "id": "3ed26008-eb9d-416b-ae29-6eb73a451722",
   "metadata": {},
   "outputs": [
    {
     "name": "stdout",
     "output_type": "stream",
     "text": [
      "[[(1, 1.) (1, 1.) (1, 1.)]\n",
      " [(1, 1.) (1, 1.) (1, 1.)]\n",
      " [(1, 1.) (1, 1.) (1, 1.)]]\n"
     ]
    }
   ],
   "source": [
    "z=np.ones((3,3),dtype=[('m','int'),('n','float')])\n",
    "print(z)"
   ]
  },
  {
   "cell_type": "code",
   "execution_count": 19,
   "id": "3ac652b8-b66f-4112-851b-e0d6204edee4",
   "metadata": {},
   "outputs": [
    {
     "name": "stdout",
     "output_type": "stream",
     "text": [
      "10 20 30 \n",
      "40 50 60 \n",
      "70 80 90 \n"
     ]
    }
   ],
   "source": [
    "import numpy as np\n",
    "x=np.array([\n",
    "          [10,20,30],\n",
    "          [40,50,60],\n",
    "          [70,80,90]])\n",
    "#print(x)\n",
    "for i in x:\n",
    "    for j in i:\n",
    "        print(j,end=\" \")\n",
    "    print()"
   ]
  },
  {
   "cell_type": "code",
   "execution_count": 21,
   "id": "47966f52-ff26-4502-b238-3fb02ff5c0d9",
   "metadata": {},
   "outputs": [
    {
     "name": "stdout",
     "output_type": "stream",
     "text": [
      "Row 0: [10 20 30]\n"
     ]
    }
   ],
   "source": [
    "import numpy as np\n",
    "x=np.array([\n",
    "          [10,20,30],\n",
    "          [40,50,60],\n",
    "          [70,80,90]])\n",
    "print(\"Row 0:\",x[0])"
   ]
  },
  {
   "cell_type": "code",
   "execution_count": 25,
   "id": "e5b554ab-7e7b-4925-b407-370a0fabd3ed",
   "metadata": {},
   "outputs": [
    {
     "name": "stdout",
     "output_type": "stream",
     "text": [
      "Row 1: [40 50 60]\n",
      "Row 2: [70 80 90]\n"
     ]
    }
   ],
   "source": [
    "import numpy as np\n",
    "x=np.array([\n",
    "          [10,20,30],\n",
    "          [40,50,60],\n",
    "          [70,80,90]])\n",
    "print(\"Row 1:\",x[1])\n",
    "print(\"Row 2:\",x[2])"
   ]
  },
  {
   "cell_type": "code",
   "execution_count": 27,
   "id": "e81ab2a1-b044-4e12-af11-d68fb19802fa",
   "metadata": {},
   "outputs": [
    {
     "name": "stdout",
     "output_type": "stream",
     "text": [
      "[[10 20 30]\n",
      " [40 50 60]]\n"
     ]
    }
   ],
   "source": [
    "print(x[0:2])"
   ]
  },
  {
   "cell_type": "code",
   "execution_count": 29,
   "id": "d46f4a38-8a1e-46c1-8eb2-88fa09cc0486",
   "metadata": {},
   "outputs": [
    {
     "name": "stdout",
     "output_type": "stream",
     "text": [
      "[[40 50 60]\n",
      " [70 80 90]]\n"
     ]
    }
   ],
   "source": [
    "print(x[1:])"
   ]
  },
  {
   "cell_type": "code",
   "execution_count": 31,
   "id": "bff36864-2cec-4fff-b856-06b225aa33f4",
   "metadata": {},
   "outputs": [
    {
     "name": "stdout",
     "output_type": "stream",
     "text": [
      "[[70 80 90]\n",
      " [40 50 60]\n",
      " [10 20 30]]\n"
     ]
    }
   ],
   "source": [
    "print(x[::-1])"
   ]
  },
  {
   "cell_type": "code",
   "execution_count": 35,
   "id": "97d0e12b-d676-4eac-a95e-219bc8a4e302",
   "metadata": {},
   "outputs": [
    {
     "name": "stdout",
     "output_type": "stream",
     "text": [
      "[[70 80 90]\n",
      " [40 50 60]\n",
      " [10 20 30]]\n"
     ]
    }
   ],
   "source": [
    "import numpy as np\n",
    "x = np.array([\n",
    "    [10, 20, 30],\n",
    "    [40, 50, 60],\n",
    "    [70, 80, 90]\n",
    "])\n",
    "x[[0, 2]] = x[[2, 0]]\n",
    "print(x)\n"
   ]
  },
  {
   "cell_type": "code",
   "execution_count": 33,
   "id": "208638ee-2aa6-4954-b56b-23d51c5441c1",
   "metadata": {},
   "outputs": [
    {
     "name": "stdout",
     "output_type": "stream",
     "text": [
      "[10 40 70]\n"
     ]
    }
   ],
   "source": [
    "print(x[:,0])"
   ]
  },
  {
   "cell_type": "code",
   "execution_count": 41,
   "id": "aa2e40ff-13f2-48bc-9df3-fdd73356006e",
   "metadata": {},
   "outputs": [
    {
     "name": "stdout",
     "output_type": "stream",
     "text": [
      "column 0: [10 40 70]\n",
      "column 1: [20 50 80]\n",
      "column 2: [30 60 90]\n"
     ]
    }
   ],
   "source": [
    "x=np.array([\n",
    "          [10,20,30],\n",
    "          [40,50,60],\n",
    "          [70,80,90]])\n",
    "print(\"column 0:\",x[:,0])\n",
    "print(\"column 1:\",x[:,1])\n",
    "print(\"column 2:\",x[:,2])"
   ]
  }
 ],
 "metadata": {
  "kernelspec": {
   "display_name": "Python [conda env:base] *",
   "language": "python",
   "name": "conda-base-py"
  },
  "language_info": {
   "codemirror_mode": {
    "name": "ipython",
    "version": 3
   },
   "file_extension": ".py",
   "mimetype": "text/x-python",
   "name": "python",
   "nbconvert_exporter": "python",
   "pygments_lexer": "ipython3",
   "version": "3.12.7"
  }
 },
 "nbformat": 4,
 "nbformat_minor": 5
}
