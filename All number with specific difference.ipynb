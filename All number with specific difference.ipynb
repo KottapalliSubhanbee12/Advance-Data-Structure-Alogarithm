{
 "cells": [
  {
   "cell_type": "code",
   "execution_count": null,
   "id": "62de5795-4282-46f9-a275-c3477b892eb0",
   "metadata": {},
   "outputs": [],
   "source": [
    "#N=13& D=2\n",
    "#low=1& high=13\n",
    "#mid=(high+low)/2\n",
    "#if differnce of mid and sum of its digits is<=2\n",
    "#then,low=mid+1\n",
    "#else->high=mid-1\n",
    "#atlast ,if low>high return(n-high)"
   ]
  },
  {
   "cell_type": "code",
   "execution_count": 44,
   "id": "492db031-66a0-49a8-b7a2-ea7bcb99b696",
   "metadata": {
    "scrolled": true
   },
   "outputs": [
    {
     "name": "stdout",
     "output_type": "stream",
     "text": [
      "4\n"
     ]
    }
   ],
   "source": [
    "N=13;D=2\n",
    "low=1;high=N\n",
    "while low<=high:\n",
    "    mid=(high+low)//2\n",
    "    sum_digits= sum(int(i) for i in str(mid))\n",
    "    diff=(mid-sum_digits)\n",
    "    if abs(diff)<=2:\n",
    "        low=mid+1\n",
    "    else:\n",
    "        high=mid-1\n",
    "print(N-high)\n",
    "\n"
   ]
  },
  {
   "cell_type": "code",
   "execution_count": 86,
   "id": "c8fba633-74e5-4d98-8fef-78fea495b6db",
   "metadata": {},
   "outputs": [
    {
     "name": "stdin",
     "output_type": "stream",
     "text": [
      " 011010101\n"
     ]
    },
    {
     "name": "stdout",
     "output_type": "stream",
     "text": [
      "-1\n"
     ]
    }
   ],
   "source": [
    "x=str(input())\n",
    "index=-1\n",
    "for i in range(len(x)):\n",
    "    if x[i]==1:\n",
    "        index=i\n",
    "print(index)"
   ]
  },
  {
   "cell_type": "code",
   "execution_count": null,
   "id": "6c891f8d-1733-42cc-861b-6d36003f2d3b",
   "metadata": {},
   "outputs": [],
   "source": []
  }
 ],
 "metadata": {
  "kernelspec": {
   "display_name": "Python [conda env:base] *",
   "language": "python",
   "name": "conda-base-py"
  },
  "language_info": {
   "codemirror_mode": {
    "name": "ipython",
    "version": 3
   },
   "file_extension": ".py",
   "mimetype": "text/x-python",
   "name": "python",
   "nbconvert_exporter": "python",
   "pygments_lexer": "ipython3",
   "version": "3.12.7"
  }
 },
 "nbformat": 4,
 "nbformat_minor": 5
}
