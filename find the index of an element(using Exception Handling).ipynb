{
 "cells": [
  {
   "cell_type": "code",
   "execution_count": 1,
   "id": "87956043-66cd-4fb5-ac8b-96396a3c5f99",
   "metadata": {},
   "outputs": [
    {
     "name": "stdout",
     "output_type": "stream",
     "text": [
      "Index of 7: 3\n",
      "Index of 10: -1\n"
     ]
    }
   ],
   "source": [
    "#Write a function that takes an array and an.element as input ,and returns thye index of the element in the array.\n",
    "#If the elements is not found,it should return-1\n",
    "#use exception Handling\n",
    "import numpy as np\n",
    "def find_element_index(arr, element):\n",
    "    try:\n",
    "        return np.where(arr == element)[0][0]  # Get the first index of the element\n",
    "    except IndexError:  # If element is not found\n",
    "        return -1\n",
    "x = np.array([3, 5, 2, 7, 8, 4, 5])\n",
    "element = 7\n",
    "result = find_element_index(x, element)\n",
    "print(f\"Index of {element}: {result}\")\n",
    "element_not_found = 10\n",
    "result_not_found = find_element_index(x, element_not_found)\n",
    "print(f\"Index of {element_not_found}: {result_not_found}\")\n",
    "\n"
   ]
  },
  {
   "cell_type": "code",
   "execution_count": 18,
   "id": "37c4a845-332c-468a-87e9-a83e61d255b6",
   "metadata": {},
   "outputs": [
    {
     "name": "stdin",
     "output_type": "stream",
     "text": [
      " 30\n"
     ]
    },
    {
     "name": "stdout",
     "output_type": "stream",
     "text": [
      "1\n"
     ]
    }
   ],
   "source": [
    "import array as arr\n",
    "x=arr.array('i',[10,30,20,60,50])\n",
    "ele=int(input())\n",
    "def e_index(x,ele):\n",
    "    n=len(x)\n",
    "    try:\n",
    "        for i in range(n):\n",
    "            if x[i]==ele:\n",
    "                return i\n",
    "        raise ValueError(\"not found\")\n",
    "    except ValueError:\n",
    "         return -1\n",
    "result=e_index(x,ele)\n",
    "print(result)"
   ]
  },
  {
   "cell_type": "code",
   "execution_count": 22,
   "id": "eb14e180-205e-4a15-a835-18b2ffb519b5",
   "metadata": {},
   "outputs": [
    {
     "name": "stdin",
     "output_type": "stream",
     "text": [
      " 30\n"
     ]
    },
    {
     "name": "stdout",
     "output_type": "stream",
     "text": [
      "1\n"
     ]
    }
   ],
   "source": [
    "import numpy as np\n",
    "x = np.array([10, 30, 20, 60, 50])\n",
    "ele = int(input())\n",
    "def e_index(x, ele):\n",
    "    try:\n",
    "        return np.where(x == ele)[0][0]  # Find index of the first occurrence\n",
    "    except IndexError:\n",
    "        return -1 \n",
    "result = e_index(x, ele)\n",
    "print(result)\n"
   ]
  },
  {
   "cell_type": "code",
   "execution_count": 28,
   "id": "cfc9934f-29cf-45ac-ac41-c0df77fea74e",
   "metadata": {},
   "outputs": [
    {
     "name": "stdin",
     "output_type": "stream",
     "text": [
      " 30\n"
     ]
    },
    {
     "name": "stdout",
     "output_type": "stream",
     "text": [
      "1\n"
     ]
    }
   ],
   "source": [
    "#numpy code\n",
    "import numpy as np\n",
    "x=np.array([10,30,20,60,50])\n",
    "ele=int(input())\n",
    "def e_index(x,ele):\n",
    "    n=len(x)\n",
    "    try:\n",
    "        for i in range(n):\n",
    "            if x[i]==ele:\n",
    "                return i\n",
    "        raise ValueError(\"not found\")\n",
    "    except ValueError:\n",
    "         return -1\n",
    "result=e_index(x,ele)\n",
    "print(result)"
   ]
  }
 ],
 "metadata": {
  "kernelspec": {
   "display_name": "Python [conda env:base] *",
   "language": "python",
   "name": "conda-base-py"
  },
  "language_info": {
   "codemirror_mode": {
    "name": "ipython",
    "version": 3
   },
   "file_extension": ".py",
   "mimetype": "text/x-python",
   "name": "python",
   "nbconvert_exporter": "python",
   "pygments_lexer": "ipython3",
   "version": "3.12.7"
  }
 },
 "nbformat": 4,
 "nbformat_minor": 5
}
