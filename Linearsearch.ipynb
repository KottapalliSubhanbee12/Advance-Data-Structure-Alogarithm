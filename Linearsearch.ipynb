{
 "cells": [
  {
   "cell_type": "markdown",
   "id": "6f2982cd-e749-476e-94e5-821a6c054be7",
   "metadata": {},
   "source": [
    "## Linear search"
   ]
  },
  {
   "cell_type": "code",
   "execution_count": 3,
   "id": "c620a804-a358-48e3-8508-52732244ecd8",
   "metadata": {},
   "outputs": [
    {
     "name": "stdin",
     "output_type": "stream",
     "text": [
      "Enter number of elements: 5\n",
      "Enter elements: 67\n",
      "Enter elements: 89\n",
      "Enter elements: 90\n",
      "Enter elements: 54\n",
      "Enter elements: 43\n",
      "enter the searching elements: 89\n"
     ]
    },
    {
     "name": "stdout",
     "output_type": "stream",
     "text": [
      "89 Element found at position 1\n"
     ]
    }
   ],
   "source": [
    "def linear_search(list,key):\n",
    "    size=len(list)\n",
    "    index=0\n",
    "    while index<size:\n",
    "        if list[index]==key:\n",
    "            return index\n",
    "        index=index+1\n",
    "    return -1\n",
    "n=int(input(\"Enter number of elements:\"))\n",
    "lst=[]\n",
    "for i in range(n):\n",
    "    num=int(input(\"Enter elements:\"))\n",
    "    lst.append(num)\n",
    "key=int(input(\"enter the searching elements:\" ))\n",
    "position=linear_search(lst,key)\n",
    "if position==-1:\n",
    "    print(\"Element not found\")\n",
    "else:\n",
    "    print(\"{} Element found at position {}\".format(key,position))"
   ]
  }
 ],
 "metadata": {
  "kernelspec": {
   "display_name": "Python [conda env:base] *",
   "language": "python",
   "name": "conda-base-py"
  },
  "language_info": {
   "codemirror_mode": {
    "name": "ipython",
    "version": 3
   },
   "file_extension": ".py",
   "mimetype": "text/x-python",
   "name": "python",
   "nbconvert_exporter": "python",
   "pygments_lexer": "ipython3",
   "version": "3.12.7"
  }
 },
 "nbformat": 4,
 "nbformat_minor": 5
}
