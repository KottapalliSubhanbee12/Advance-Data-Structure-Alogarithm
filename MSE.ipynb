{
 "cells": [
  {
   "cell_type": "markdown",
   "id": "552dea15-ecfc-4ff5-8fbf-34004913e8cd",
   "metadata": {},
   "source": [
    "## Last index"
   ]
  },
  {
   "cell_type": "code",
   "execution_count": 1,
   "id": "e52cd4ef-7ca2-4b0f-9a94-76a28ebead80",
   "metadata": {},
   "outputs": [
    {
     "name": "stdout",
     "output_type": "stream",
     "text": [
      "6\n"
     ]
    }
   ],
   "source": [
    "import numpy as np\n",
    "x=np.array([1,0,1,0,1,0,1])\n",
    "def last_index(x):\n",
    "    n=len(x)\n",
    "    index=-1\n",
    "    for i in range(n):\n",
    "        if x[i]==1:\n",
    "            index=i\n",
    "    return index\n",
    "print(last_index(x))"
   ]
  },
  {
   "cell_type": "markdown",
   "id": "3df7523f-9223-43b8-9e3a-d74d44a23b0d",
   "metadata": {},
   "source": [
    "## tower of hanoi"
   ]
  },
  {
   "cell_type": "code",
   "execution_count": 7,
   "id": "500b2166-7fb7-44e1-988d-9c6c0b932820",
   "metadata": {},
   "outputs": [
    {
     "name": "stdout",
     "output_type": "stream",
     "text": [
      "1 A B\n",
      "2 A B\n",
      "1 A B\n",
      "3 A B\n",
      "1 A B\n",
      "2 A B\n",
      "1 A B\n",
      "None\n"
     ]
    }
   ],
   "source": [
    "def tower_of_hanoi(n,s,d,a):\n",
    "    if n==1:\n",
    "        print(n,s,d)\n",
    "        return\n",
    "    tower_of_hanoi(n-1,s,d,a)\n",
    "    print(n,s,d)\n",
    "    tower_of_hanoi(n-1,s,d,a)\n",
    "n=3\n",
    "print(tower_of_hanoi(n,'A','B','C'))"
   ]
  },
  {
   "cell_type": "markdown",
   "id": "a6ef41b0-a61d-474d-b9ab-9b5a1a1e14d8",
   "metadata": {},
   "source": [
    "## FACTORIAL"
   ]
  },
  {
   "cell_type": "code",
   "execution_count": 11,
   "id": "3b332bf5-d32f-4ed9-b4dd-877463e69411",
   "metadata": {},
   "outputs": [
    {
     "name": "stdout",
     "output_type": "stream",
     "text": [
      "24\n"
     ]
    }
   ],
   "source": [
    "def factorial(n):\n",
    "    if n==0 or n==1:\n",
    "        return 1\n",
    "    return n*factorial(n-1)\n",
    "num=4\n",
    "print(factorial(num))"
   ]
  },
  {
   "cell_type": "markdown",
   "id": "193d87be-437d-4f2b-aaee-58019700b1c1",
   "metadata": {},
   "source": [
    "## 2D array"
   ]
  },
  {
   "cell_type": "code",
   "execution_count": 16,
   "id": "ce340e1b-112a-4504-84cf-6b69e070dd5f",
   "metadata": {},
   "outputs": [
    {
     "name": "stdout",
     "output_type": "stream",
     "text": [
      "[1, 2, 3, 4, 5, 6]\n"
     ]
    }
   ],
   "source": [
    "value=[[1,2,3],[4,5,6]]\n",
    "res=[[value[i][j] for i in range(len(value))for j in range(len(value[0]))]]\n",
    "for x in res:\n",
    "    print(x)"
   ]
  },
  {
   "cell_type": "code",
   "execution_count": null,
   "id": "25fcfa53-c7d5-4f80-b018-14198e94d45b",
   "metadata": {},
   "outputs": [],
   "source": []
  }
 ],
 "metadata": {
  "kernelspec": {
   "display_name": "Python [conda env:base] *",
   "language": "python",
   "name": "conda-base-py"
  },
  "language_info": {
   "codemirror_mode": {
    "name": "ipython",
    "version": 3
   },
   "file_extension": ".py",
   "mimetype": "text/x-python",
   "name": "python",
   "nbconvert_exporter": "python",
   "pygments_lexer": "ipython3",
   "version": "3.12.7"
  }
 },
 "nbformat": 4,
 "nbformat_minor": 5
}
