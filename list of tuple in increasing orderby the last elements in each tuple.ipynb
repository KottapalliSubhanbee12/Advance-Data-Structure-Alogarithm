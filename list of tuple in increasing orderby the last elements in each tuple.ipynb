{
 "cells": [
  {
   "cell_type": "code",
   "execution_count": 1,
   "id": "894b4043-1994-40bc-8dfc-e7511e51011d",
   "metadata": {},
   "outputs": [
    {
     "name": "stdout",
     "output_type": "stream",
     "text": [
      "After sorting: [(1, 2), (2, 3), (4, 4), (2, 5)]\n"
     ]
    }
   ],
   "source": [
    "num = [(2,5),(1,2),(4,4),(2,3)]\n",
    "size = len(num)\n",
    "\n",
    "for i in range (0,size):\n",
    "    for j in range(0, size-i-1):\n",
    "        if num[j][1] > num[j+1][1]:\n",
    "            num[j],num[j+1] = num[j+1],num[j]\n",
    "print(\"After sorting:\",num)\n",
    "        "
   ]
  }
 ],
 "metadata": {
  "kernelspec": {
   "display_name": "Python [conda env:base] *",
   "language": "python",
   "name": "conda-base-py"
  },
  "language_info": {
   "codemirror_mode": {
    "name": "ipython",
    "version": 3
   },
   "file_extension": ".py",
   "mimetype": "text/x-python",
   "name": "python",
   "nbconvert_exporter": "python",
   "pygments_lexer": "ipython3",
   "version": "3.12.7"
  }
 },
 "nbformat": 4,
 "nbformat_minor": 5
}
