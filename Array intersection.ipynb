{
 "cells": [
  {
   "cell_type": "code",
   "execution_count": 5,
   "id": "ce826419-e48c-4183-bf21-35260551e183",
   "metadata": {},
   "outputs": [
    {
     "name": "stdout",
     "output_type": "stream",
     "text": [
      "[]\n"
     ]
    }
   ],
   "source": [
    "import numpy as np\n",
    "x1=np.array([10,20,30,40,50])\n",
    "x2=np.array([20,30,100,0])\n",
    "def arr_common(x1,x2):\n",
    "    new_arr=[]\n",
    "    for i in x1:\n",
    "        if i in x2:\n",
    "            new_arr.append(i)\n",
    "        return np.array(new_arr)\n",
    "result=arr_common(x1,x2)\n",
    "type(result)\n",
    "print(result)"
   ]
  },
  {
   "cell_type": "code",
   "execution_count": 13,
   "id": "a0ec3ba3-5478-41b9-9ecc-15b7af93c848",
   "metadata": {},
   "outputs": [
    {
     "ename": "NameError",
     "evalue": "name 'yes' is not defined",
     "output_type": "error",
     "traceback": [
      "\u001b[1;31m---------------------------------------------------------------------------\u001b[0m",
      "\u001b[1;31mNameError\u001b[0m                                 Traceback (most recent call last)",
      "Cell \u001b[1;32mIn[13], line 7\u001b[0m\n\u001b[0;32m      5\u001b[0m     res\u001b[38;5;241m=\u001b[39mnp\u001b[38;5;241m.\u001b[39mintersect1d(x1,x2)\n\u001b[0;32m      6\u001b[0m     \u001b[38;5;28;01mreturn\u001b[39;00m np\u001b[38;5;241m.\u001b[39marray(yes)\n\u001b[1;32m----> 7\u001b[0m result\u001b[38;5;241m=\u001b[39marr_common(x1,x2)\n\u001b[0;32m      8\u001b[0m \u001b[38;5;28mprint\u001b[39m(result)\n",
      "Cell \u001b[1;32mIn[13], line 6\u001b[0m, in \u001b[0;36marr_common\u001b[1;34m(x1, x2)\u001b[0m\n\u001b[0;32m      4\u001b[0m \u001b[38;5;28;01mdef\u001b[39;00m \u001b[38;5;21marr_common\u001b[39m(x1,x2):\n\u001b[0;32m      5\u001b[0m     res\u001b[38;5;241m=\u001b[39mnp\u001b[38;5;241m.\u001b[39mintersect1d(x1,x2)\n\u001b[1;32m----> 6\u001b[0m     \u001b[38;5;28;01mreturn\u001b[39;00m np\u001b[38;5;241m.\u001b[39marray(yes)\n",
      "\u001b[1;31mNameError\u001b[0m: name 'yes' is not defined"
     ]
    }
   ],
   "source": [
    "import numpy as np\n",
    "x1=np.array([10,20,30,40,50])\n",
    "x2=np.array([20,30,100,0])\n",
    "def arr_common(x1,x2):\n",
    "    res=np.intersect1d(x1,x2)\n",
    "    return np.array(yes)\n",
    "result=arr_common(x1,x2)\n",
    "print(result)\n"
   ]
  }
 ],
 "metadata": {
  "kernelspec": {
   "display_name": "Python [conda env:base] *",
   "language": "python",
   "name": "conda-base-py"
  },
  "language_info": {
   "codemirror_mode": {
    "name": "ipython",
    "version": 3
   },
   "file_extension": ".py",
   "mimetype": "text/x-python",
   "name": "python",
   "nbconvert_exporter": "python",
   "pygments_lexer": "ipython3",
   "version": "3.12.7"
  }
 },
 "nbformat": 4,
 "nbformat_minor": 5
}
