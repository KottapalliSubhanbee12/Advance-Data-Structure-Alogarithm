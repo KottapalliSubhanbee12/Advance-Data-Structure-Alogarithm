{
 "cells": [
  {
   "cell_type": "code",
   "execution_count": 32,
   "id": "adcf620d-9086-42e8-88d2-73cc9b6bf099",
   "metadata": {},
   "outputs": [
    {
     "name": "stdin",
     "output_type": "stream",
     "text": [
      "enter number of elements: 7\n",
      "enter elements: 90\n",
      "enter elements: 99\n",
      "enter elements: 56\n",
      "enter elements: 24\n",
      "enter elements: 33\n",
      "enter elements: 78\n",
      "enter elements: 66\n"
     ]
    },
    {
     "name": "stdout",
     "output_type": "stream",
     "text": [
      "original Array: [90, 99, 56, 24, 33, 78, 66]\n",
      "sorted array: [24, 33, 90, 99, 56, 66, 78]\n"
     ]
    }
   ],
   "source": [
    "def MergeList(list,lst,lend,rst,rend):\n",
    "    temp=[]\n",
    "    i =lst\n",
    "    j =rst\n",
    "    while i<=lend and j<=rend:\n",
    "        if arr[i]<arr[j]:\n",
    "            temp.append(arr[i])\n",
    "            i+=1\n",
    "        else:\n",
    "            temp.append(arr[j])\n",
    "            j+=1\n",
    "            while i<= lend:  \n",
    "                temp.append(arr[i])\n",
    "                i += 1\n",
    "            while j<=rend: \n",
    "                temp.append(arr[j])\n",
    "                j += 1 \n",
    "            for i in range(lst,rend+1):    \n",
    "               arr[i]=temp[i-lst]\n",
    "def mergesort(arr,left,right):\n",
    "    if left<right:\n",
    "        mid=(left+right)//2\n",
    "        mergesort(arr,left,mid)\n",
    "        mergesort(arr,mid+1,right)\n",
    "        MergeList(arr,left,mid,mid+1,right)\n",
    "arr=[]\n",
    "n=int(input(\"enter number of elements:\"))\n",
    "for i in range(n):\n",
    "    arr.append(int(input(\"enter elements:\")))\n",
    "print(\"original Array:\",arr)\n",
    "mergesort(arr, 0, n - 1)\n",
    "print(\"sorted array:\",arr)\n"
   ]
  }
 ],
 "metadata": {
  "kernelspec": {
   "display_name": "Python [conda env:base] *",
   "language": "python",
   "name": "conda-base-py"
  },
  "language_info": {
   "codemirror_mode": {
    "name": "ipython",
    "version": 3
   },
   "file_extension": ".py",
   "mimetype": "text/x-python",
   "name": "python",
   "nbconvert_exporter": "python",
   "pygments_lexer": "ipython3",
   "version": "3.12.7"
  }
 },
 "nbformat": 4,
 "nbformat_minor": 5
}
