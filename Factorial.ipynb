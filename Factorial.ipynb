{
 "cells": [
  {
   "cell_type": "markdown",
   "id": "e600cbe3-10f3-48da-adbe-7ce98d2f6877",
   "metadata": {},
   "source": [
    "## Recurssion"
   ]
  },
  {
   "cell_type": "code",
   "execution_count": 4,
   "id": "1b299cf7-bd3c-4526-abb9-0c70b439e855",
   "metadata": {},
   "outputs": [
    {
     "name": "stdout",
     "output_type": "stream",
     "text": [
      "6\n"
     ]
    }
   ],
   "source": [
    "def factorial(n):\n",
    "    if n==1:\n",
    "        return 1\n",
    "    else:\n",
    "        return n * factorial(n-1)\n",
    "print(factorial(3)) \n"
   ]
  },
  {
   "cell_type": "markdown",
   "id": "a19ca958-b25f-4646-a0ce-9c36c32c9cfb",
   "metadata": {},
   "source": [
    "## Iteration"
   ]
  },
  {
   "cell_type": "code",
   "execution_count": 7,
   "id": "54e5ba8f-c6d1-4f56-a977-464b0bbf2974",
   "metadata": {},
   "outputs": [
    {
     "name": "stdout",
     "output_type": "stream",
     "text": [
      "1\n"
     ]
    }
   ],
   "source": [
    "def factorial(n):\n",
    "    result=1\n",
    "    for i in range(1,n+1):\n",
    "        result *= 1\n",
    "    return result\n",
    "print(factorial(5)) \n"
   ]
  }
 ],
 "metadata": {
  "kernelspec": {
   "display_name": "Python [conda env:base] *",
   "language": "python",
   "name": "conda-base-py"
  },
  "language_info": {
   "codemirror_mode": {
    "name": "ipython",
    "version": 3
   },
   "file_extension": ".py",
   "mimetype": "text/x-python",
   "name": "python",
   "nbconvert_exporter": "python",
   "pygments_lexer": "ipython3",
   "version": "3.12.7"
  }
 },
 "nbformat": 4,
 "nbformat_minor": 5
}
